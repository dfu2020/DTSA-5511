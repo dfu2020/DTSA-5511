{
 "cells": [
  {
   "cell_type": "markdown",
   "metadata": {},
   "source": [
    "### Natural Language Processing with Disaster Tweets"
   ]
  },
  {
   "cell_type": "markdown",
   "metadata": {},
   "source": [
    "In this week's project, we are participating in Kaggle's competition. We will build a recurrent neural network (RNN) [https://en.wikipedia.org/wiki/Recurrent_neural_network]. This will be implemented using \n",
    "tensorflow keras sequential model [https://www.tensorflow.org/guide/keras/sequential_model].\n",
    "\n",
    "The data comes from Kaggle Competition: Addison Howard, devrishi, Phil Culliton, Yufeng Guo. (2019). Natural Language Processing with Disaster Tweets. Kaggle. https://kaggle.com/competitions/nlp-getting-started\n",
    "\n",
    "Since we are working with natural language processing, we will make use of the python natural language toolkit [https://github.com/nltk/nltk/wiki] to perform some simple natural language processing (i.e., text cleaning and reformatting).\n",
    "\n",
    "In the model training procedure, we will focus on tuning the RNN model's initial learning rate and activation function to achieve a best model performance. Finally, we will conclude what we have learnt from this project.\n",
    "\n",
    "Github Repository: https://github.com/dfu2020/DTSA-5511/tree/main/Week4"
   ]
  },
  {
   "cell_type": "markdown",
   "metadata": {},
   "source": [
    "### Import Libraries"
   ]
  },
  {
   "cell_type": "code",
   "execution_count": 152,
   "metadata": {},
   "outputs": [],
   "source": [
    "# Importing  Libraries\n",
    "import tensorflow as tf\n",
    "import matplotlib.pyplot as plt\n",
    "%matplotlib inline\n",
    "tf.random.set_seed(101)\n",
    "import pandas as pd \n",
    "import seaborn as sns\n",
    "from sklearn.model_selection import train_test_split\n",
    "import pandas as pd\n",
    "import tensorflow as tf\n",
    "from nltk.stem import PorterStemmer\n",
    "from nltk.tokenize import word_tokenize\n",
    "from sklearn.feature_extraction.text import TfidfVectorizer\n",
    "from nltk.corpus import stopwords\n",
    "import matplotlib.pyplot as plt\n",
    "from sklearn.metrics import confusion_matrix \n",
    "from sklearn.metrics import f1_score"
   ]
  },
  {
   "cell_type": "markdown",
   "metadata": {},
   "source": [
    "### EDA and data cleaning"
   ]
  },
  {
   "cell_type": "code",
   "execution_count": 38,
   "metadata": {},
   "outputs": [
    {
     "name": "stdout",
     "output_type": "stream",
     "text": [
      "<class 'pandas.core.frame.DataFrame'>\n",
      "RangeIndex: 7613 entries, 0 to 7612\n",
      "Data columns (total 5 columns):\n",
      " #   Column    Non-Null Count  Dtype \n",
      "---  ------    --------------  ----- \n",
      " 0   id        7613 non-null   int64 \n",
      " 1   keyword   7552 non-null   object\n",
      " 2   location  5080 non-null   object\n",
      " 3   text      7613 non-null   object\n",
      " 4   target    7613 non-null   int64 \n",
      "dtypes: int64(2), object(3)\n",
      "memory usage: 297.5+ KB\n"
     ]
    }
   ],
   "source": [
    "train_df = pd.read_csv(\"week4_data/train.csv\")\n",
    "test_df = pd.read_csv(\"week4_data/test.csv\")\n",
    "\n",
    "train_df.info()"
   ]
  },
  {
   "cell_type": "code",
   "execution_count": 8,
   "metadata": {},
   "outputs": [
    {
     "name": "stdout",
     "output_type": "stream",
     "text": [
      "                 id      target\n",
      "count   7613.000000  7613.00000\n",
      "mean    5441.934848     0.42966\n",
      "std     3137.116090     0.49506\n",
      "min        1.000000     0.00000\n",
      "25%     2734.000000     0.00000\n",
      "50%     5408.000000     0.00000\n",
      "75%     8146.000000     1.00000\n",
      "max    10873.000000     1.00000\n"
     ]
    }
   ],
   "source": [
    "print(train_df.describe())"
   ]
  },
  {
   "cell_type": "code",
   "execution_count": 40,
   "metadata": {},
   "outputs": [
    {
     "data": {
      "text/html": [
       "<div>\n",
       "<style scoped>\n",
       "    .dataframe tbody tr th:only-of-type {\n",
       "        vertical-align: middle;\n",
       "    }\n",
       "\n",
       "    .dataframe tbody tr th {\n",
       "        vertical-align: top;\n",
       "    }\n",
       "\n",
       "    .dataframe thead th {\n",
       "        text-align: right;\n",
       "    }\n",
       "</style>\n",
       "<table border=\"1\" class=\"dataframe\">\n",
       "  <thead>\n",
       "    <tr style=\"text-align: right;\">\n",
       "      <th></th>\n",
       "      <th>id</th>\n",
       "      <th>keyword</th>\n",
       "      <th>location</th>\n",
       "      <th>text</th>\n",
       "      <th>target</th>\n",
       "    </tr>\n",
       "  </thead>\n",
       "  <tbody>\n",
       "    <tr>\n",
       "      <th>0</th>\n",
       "      <td>1</td>\n",
       "      <td>NaN</td>\n",
       "      <td>NaN</td>\n",
       "      <td>Our Deeds are the Reason of this #earthquake M...</td>\n",
       "      <td>1</td>\n",
       "    </tr>\n",
       "    <tr>\n",
       "      <th>1</th>\n",
       "      <td>4</td>\n",
       "      <td>NaN</td>\n",
       "      <td>NaN</td>\n",
       "      <td>Forest fire near La Ronge Sask. Canada</td>\n",
       "      <td>1</td>\n",
       "    </tr>\n",
       "    <tr>\n",
       "      <th>2</th>\n",
       "      <td>5</td>\n",
       "      <td>NaN</td>\n",
       "      <td>NaN</td>\n",
       "      <td>All residents asked to 'shelter in place' are ...</td>\n",
       "      <td>1</td>\n",
       "    </tr>\n",
       "    <tr>\n",
       "      <th>3</th>\n",
       "      <td>6</td>\n",
       "      <td>NaN</td>\n",
       "      <td>NaN</td>\n",
       "      <td>13,000 people receive #wildfires evacuation or...</td>\n",
       "      <td>1</td>\n",
       "    </tr>\n",
       "    <tr>\n",
       "      <th>4</th>\n",
       "      <td>7</td>\n",
       "      <td>NaN</td>\n",
       "      <td>NaN</td>\n",
       "      <td>Just got sent this photo from Ruby #Alaska as ...</td>\n",
       "      <td>1</td>\n",
       "    </tr>\n",
       "    <tr>\n",
       "      <th>5</th>\n",
       "      <td>8</td>\n",
       "      <td>NaN</td>\n",
       "      <td>NaN</td>\n",
       "      <td>#RockyFire Update =&gt; California Hwy. 20 closed...</td>\n",
       "      <td>1</td>\n",
       "    </tr>\n",
       "    <tr>\n",
       "      <th>6</th>\n",
       "      <td>10</td>\n",
       "      <td>NaN</td>\n",
       "      <td>NaN</td>\n",
       "      <td>#flood #disaster Heavy rain causes flash flood...</td>\n",
       "      <td>1</td>\n",
       "    </tr>\n",
       "    <tr>\n",
       "      <th>7</th>\n",
       "      <td>13</td>\n",
       "      <td>NaN</td>\n",
       "      <td>NaN</td>\n",
       "      <td>I'm on top of the hill and I can see a fire in...</td>\n",
       "      <td>1</td>\n",
       "    </tr>\n",
       "    <tr>\n",
       "      <th>8</th>\n",
       "      <td>14</td>\n",
       "      <td>NaN</td>\n",
       "      <td>NaN</td>\n",
       "      <td>There's an emergency evacuation happening now ...</td>\n",
       "      <td>1</td>\n",
       "    </tr>\n",
       "    <tr>\n",
       "      <th>9</th>\n",
       "      <td>15</td>\n",
       "      <td>NaN</td>\n",
       "      <td>NaN</td>\n",
       "      <td>I'm afraid that the tornado is coming to our a...</td>\n",
       "      <td>1</td>\n",
       "    </tr>\n",
       "  </tbody>\n",
       "</table>\n",
       "</div>"
      ],
      "text/plain": [
       "   id keyword location                                               text   \n",
       "0   1     NaN      NaN  Our Deeds are the Reason of this #earthquake M...  \\\n",
       "1   4     NaN      NaN             Forest fire near La Ronge Sask. Canada   \n",
       "2   5     NaN      NaN  All residents asked to 'shelter in place' are ...   \n",
       "3   6     NaN      NaN  13,000 people receive #wildfires evacuation or...   \n",
       "4   7     NaN      NaN  Just got sent this photo from Ruby #Alaska as ...   \n",
       "5   8     NaN      NaN  #RockyFire Update => California Hwy. 20 closed...   \n",
       "6  10     NaN      NaN  #flood #disaster Heavy rain causes flash flood...   \n",
       "7  13     NaN      NaN  I'm on top of the hill and I can see a fire in...   \n",
       "8  14     NaN      NaN  There's an emergency evacuation happening now ...   \n",
       "9  15     NaN      NaN  I'm afraid that the tornado is coming to our a...   \n",
       "\n",
       "   target  \n",
       "0       1  \n",
       "1       1  \n",
       "2       1  \n",
       "3       1  \n",
       "4       1  \n",
       "5       1  \n",
       "6       1  \n",
       "7       1  \n",
       "8       1  \n",
       "9       1  "
      ]
     },
     "execution_count": 40,
     "metadata": {},
     "output_type": "execute_result"
    }
   ],
   "source": [
    "train_df.head(10)"
   ]
  },
  {
   "cell_type": "code",
   "execution_count": 45,
   "metadata": {},
   "outputs": [
    {
     "data": {
      "text/html": [
       "<div>\n",
       "<style scoped>\n",
       "    .dataframe tbody tr th:only-of-type {\n",
       "        vertical-align: middle;\n",
       "    }\n",
       "\n",
       "    .dataframe tbody tr th {\n",
       "        vertical-align: top;\n",
       "    }\n",
       "\n",
       "    .dataframe thead th {\n",
       "        text-align: right;\n",
       "    }\n",
       "</style>\n",
       "<table border=\"1\" class=\"dataframe\">\n",
       "  <thead>\n",
       "    <tr style=\"text-align: right;\">\n",
       "      <th></th>\n",
       "      <th>id</th>\n",
       "      <th>text</th>\n",
       "      <th>target</th>\n",
       "    </tr>\n",
       "  </thead>\n",
       "  <tbody>\n",
       "    <tr>\n",
       "      <th>0</th>\n",
       "      <td>1</td>\n",
       "      <td>Our Deeds are the Reason of this #earthquake M...</td>\n",
       "      <td>1</td>\n",
       "    </tr>\n",
       "    <tr>\n",
       "      <th>1</th>\n",
       "      <td>4</td>\n",
       "      <td>Forest fire near La Ronge Sask. Canada</td>\n",
       "      <td>1</td>\n",
       "    </tr>\n",
       "    <tr>\n",
       "      <th>2</th>\n",
       "      <td>5</td>\n",
       "      <td>All residents asked to 'shelter in place' are ...</td>\n",
       "      <td>1</td>\n",
       "    </tr>\n",
       "    <tr>\n",
       "      <th>3</th>\n",
       "      <td>6</td>\n",
       "      <td>13,000 people receive #wildfires evacuation or...</td>\n",
       "      <td>1</td>\n",
       "    </tr>\n",
       "    <tr>\n",
       "      <th>4</th>\n",
       "      <td>7</td>\n",
       "      <td>Just got sent this photo from Ruby #Alaska as ...</td>\n",
       "      <td>1</td>\n",
       "    </tr>\n",
       "    <tr>\n",
       "      <th>5</th>\n",
       "      <td>8</td>\n",
       "      <td>#RockyFire Update =&gt; California Hwy. 20 closed...</td>\n",
       "      <td>1</td>\n",
       "    </tr>\n",
       "    <tr>\n",
       "      <th>6</th>\n",
       "      <td>10</td>\n",
       "      <td>#flood #disaster Heavy rain causes flash flood...</td>\n",
       "      <td>1</td>\n",
       "    </tr>\n",
       "    <tr>\n",
       "      <th>7</th>\n",
       "      <td>13</td>\n",
       "      <td>I'm on top of the hill and I can see a fire in...</td>\n",
       "      <td>1</td>\n",
       "    </tr>\n",
       "    <tr>\n",
       "      <th>8</th>\n",
       "      <td>14</td>\n",
       "      <td>There's an emergency evacuation happening now ...</td>\n",
       "      <td>1</td>\n",
       "    </tr>\n",
       "    <tr>\n",
       "      <th>9</th>\n",
       "      <td>15</td>\n",
       "      <td>I'm afraid that the tornado is coming to our a...</td>\n",
       "      <td>1</td>\n",
       "    </tr>\n",
       "  </tbody>\n",
       "</table>\n",
       "</div>"
      ],
      "text/plain": [
       "   id                                               text  target\n",
       "0   1  Our Deeds are the Reason of this #earthquake M...       1\n",
       "1   4             Forest fire near La Ronge Sask. Canada       1\n",
       "2   5  All residents asked to 'shelter in place' are ...       1\n",
       "3   6  13,000 people receive #wildfires evacuation or...       1\n",
       "4   7  Just got sent this photo from Ruby #Alaska as ...       1\n",
       "5   8  #RockyFire Update => California Hwy. 20 closed...       1\n",
       "6  10  #flood #disaster Heavy rain causes flash flood...       1\n",
       "7  13  I'm on top of the hill and I can see a fire in...       1\n",
       "8  14  There's an emergency evacuation happening now ...       1\n",
       "9  15  I'm afraid that the tornado is coming to our a...       1"
      ]
     },
     "execution_count": 45,
     "metadata": {},
     "output_type": "execute_result"
    }
   ],
   "source": [
    "# From above, we see that keyword and location has some NaN values,\n",
    "# for the purpose of NLP training, the most important features are\n",
    "# included in the text column, thus we only keep \"id\", \"text\", \"target\"\n",
    "# in the training dataframe, and \"id\", \"text\" in the test dataframe.\n",
    "tweets_train_df = train_df[[\"id\", \"text\", \"target\"]].sort_values(by = \"id\")\n",
    "tweets_test_df = test_df[[\"id\", \"text\"]].sort_values(by = \"id\")\n",
    "\n",
    "# Updated training dataframe\n",
    "tweets_train_df.head(10)"
   ]
  },
  {
   "cell_type": "code",
   "execution_count": 47,
   "metadata": {},
   "outputs": [],
   "source": [
    "# Create a function to perform data cleaning\n",
    "def clean_data(text):\n",
    "    # first tokenize the text in each string\n",
    "    tokens = word_tokenize(text)\n",
    "    # remove numbers \n",
    "    words = [word for word in tokens if word.isalpha()]\n",
    "    # remove stop words using nltk\n",
    "    stop_words = set(stopwords.words('english'))\n",
    "    words = [w for w in words if not w in stop_words]\n",
    "    # calling porterstemmer to stem the vocabulary to\n",
    "    # common form\n",
    "    porter = PorterStemmer()\n",
    "    stemmed = [porter.stem(word) for word in words]\n",
    "    text = ' '.join(stemmed)\n",
    "    return text\n"
   ]
  },
  {
   "cell_type": "code",
   "execution_count": 48,
   "metadata": {},
   "outputs": [],
   "source": [
    "# before and after the cleaning.\n",
    "tweets_train_df['text_num'] =tweets_train_df['text'].apply(lambda x: len(word_tokenize(x)))\n",
    "tweets_train_df['clean_text'] = tweets_train_df['text'].apply(lambda x: clean_data(x))\n",
    "tweets_train_df['clean_text_num']=tweets_train_df['clean_text'].apply(lambda x: len(word_tokenize(x)))\n",
    "\n",
    "tweets_test_df['text_num'] =tweets_test_df['text'].apply(lambda x: len(word_tokenize(x)))\n",
    "tweets_test_df['clean_text'] = tweets_test_df['text'].apply(lambda x: clean_data(x))\n",
    "tweets_test_df['clean_text_num']= tweets_test_df['clean_text'].apply(lambda x: len(word_tokenize(x)))"
   ]
  },
  {
   "cell_type": "code",
   "execution_count": 49,
   "metadata": {},
   "outputs": [
    {
     "data": {
      "text/html": [
       "<div>\n",
       "<style scoped>\n",
       "    .dataframe tbody tr th:only-of-type {\n",
       "        vertical-align: middle;\n",
       "    }\n",
       "\n",
       "    .dataframe tbody tr th {\n",
       "        vertical-align: top;\n",
       "    }\n",
       "\n",
       "    .dataframe thead th {\n",
       "        text-align: right;\n",
       "    }\n",
       "</style>\n",
       "<table border=\"1\" class=\"dataframe\">\n",
       "  <thead>\n",
       "    <tr style=\"text-align: right;\">\n",
       "      <th></th>\n",
       "      <th>id</th>\n",
       "      <th>text</th>\n",
       "      <th>target</th>\n",
       "      <th>text_num</th>\n",
       "      <th>clean_text</th>\n",
       "      <th>clean_text_num</th>\n",
       "    </tr>\n",
       "  </thead>\n",
       "  <tbody>\n",
       "    <tr>\n",
       "      <th>0</th>\n",
       "      <td>1</td>\n",
       "      <td>Our Deeds are the Reason of this #earthquake M...</td>\n",
       "      <td>1</td>\n",
       "      <td>14</td>\n",
       "      <td>our deed reason earthquak may allah forgiv us</td>\n",
       "      <td>8</td>\n",
       "    </tr>\n",
       "    <tr>\n",
       "      <th>1</th>\n",
       "      <td>4</td>\n",
       "      <td>Forest fire near La Ronge Sask. Canada</td>\n",
       "      <td>1</td>\n",
       "      <td>8</td>\n",
       "      <td>forest fire near la rong sask canada</td>\n",
       "      <td>7</td>\n",
       "    </tr>\n",
       "    <tr>\n",
       "      <th>2</th>\n",
       "      <td>5</td>\n",
       "      <td>All residents asked to 'shelter in place' are ...</td>\n",
       "      <td>1</td>\n",
       "      <td>24</td>\n",
       "      <td>all resid ask place notifi offic no evacu shel...</td>\n",
       "      <td>12</td>\n",
       "    </tr>\n",
       "    <tr>\n",
       "      <th>3</th>\n",
       "      <td>6</td>\n",
       "      <td>13,000 people receive #wildfires evacuation or...</td>\n",
       "      <td>1</td>\n",
       "      <td>9</td>\n",
       "      <td>peopl receiv wildfir evacu order california</td>\n",
       "      <td>6</td>\n",
       "    </tr>\n",
       "    <tr>\n",
       "      <th>4</th>\n",
       "      <td>7</td>\n",
       "      <td>Just got sent this photo from Ruby #Alaska as ...</td>\n",
       "      <td>1</td>\n",
       "      <td>18</td>\n",
       "      <td>just got sent photo rubi alaska smoke wildfir ...</td>\n",
       "      <td>10</td>\n",
       "    </tr>\n",
       "    <tr>\n",
       "      <th>...</th>\n",
       "      <td>...</td>\n",
       "      <td>...</td>\n",
       "      <td>...</td>\n",
       "      <td>...</td>\n",
       "      <td>...</td>\n",
       "      <td>...</td>\n",
       "    </tr>\n",
       "    <tr>\n",
       "      <th>7608</th>\n",
       "      <td>10869</td>\n",
       "      <td>Two giant cranes holding a bridge collapse int...</td>\n",
       "      <td>1</td>\n",
       "      <td>13</td>\n",
       "      <td>two giant crane hold bridg collaps nearbi home...</td>\n",
       "      <td>9</td>\n",
       "    </tr>\n",
       "    <tr>\n",
       "      <th>7609</th>\n",
       "      <td>10870</td>\n",
       "      <td>@aria_ahrary @TheTawniest The out of control w...</td>\n",
       "      <td>1</td>\n",
       "      <td>24</td>\n",
       "      <td>thetawniest the control wild fire california e...</td>\n",
       "      <td>12</td>\n",
       "    </tr>\n",
       "    <tr>\n",
       "      <th>7610</th>\n",
       "      <td>10871</td>\n",
       "      <td>M1.94 [01:04 UTC]?5km S of Volcano Hawaii. htt...</td>\n",
       "      <td>1</td>\n",
       "      <td>15</td>\n",
       "      <td>utc s volcano hawaii http</td>\n",
       "      <td>5</td>\n",
       "    </tr>\n",
       "    <tr>\n",
       "      <th>7611</th>\n",
       "      <td>10872</td>\n",
       "      <td>Police investigating after an e-bike collided ...</td>\n",
       "      <td>1</td>\n",
       "      <td>21</td>\n",
       "      <td>polic investig collid car littl portug rider s...</td>\n",
       "      <td>11</td>\n",
       "    </tr>\n",
       "    <tr>\n",
       "      <th>7612</th>\n",
       "      <td>10873</td>\n",
       "      <td>The Latest: More Homes Razed by Northern Calif...</td>\n",
       "      <td>1</td>\n",
       "      <td>16</td>\n",
       "      <td>the latest more home raze northern california ...</td>\n",
       "      <td>11</td>\n",
       "    </tr>\n",
       "  </tbody>\n",
       "</table>\n",
       "<p>7613 rows × 6 columns</p>\n",
       "</div>"
      ],
      "text/plain": [
       "         id                                               text  target   \n",
       "0         1  Our Deeds are the Reason of this #earthquake M...       1  \\\n",
       "1         4             Forest fire near La Ronge Sask. Canada       1   \n",
       "2         5  All residents asked to 'shelter in place' are ...       1   \n",
       "3         6  13,000 people receive #wildfires evacuation or...       1   \n",
       "4         7  Just got sent this photo from Ruby #Alaska as ...       1   \n",
       "...     ...                                                ...     ...   \n",
       "7608  10869  Two giant cranes holding a bridge collapse int...       1   \n",
       "7609  10870  @aria_ahrary @TheTawniest The out of control w...       1   \n",
       "7610  10871  M1.94 [01:04 UTC]?5km S of Volcano Hawaii. htt...       1   \n",
       "7611  10872  Police investigating after an e-bike collided ...       1   \n",
       "7612  10873  The Latest: More Homes Razed by Northern Calif...       1   \n",
       "\n",
       "      text_num                                         clean_text   \n",
       "0           14      our deed reason earthquak may allah forgiv us  \\\n",
       "1            8               forest fire near la rong sask canada   \n",
       "2           24  all resid ask place notifi offic no evacu shel...   \n",
       "3            9        peopl receiv wildfir evacu order california   \n",
       "4           18  just got sent photo rubi alaska smoke wildfir ...   \n",
       "...        ...                                                ...   \n",
       "7608        13  two giant crane hold bridg collaps nearbi home...   \n",
       "7609        24  thetawniest the control wild fire california e...   \n",
       "7610        15                          utc s volcano hawaii http   \n",
       "7611        21  polic investig collid car littl portug rider s...   \n",
       "7612        16  the latest more home raze northern california ...   \n",
       "\n",
       "      clean_text_num  \n",
       "0                  8  \n",
       "1                  7  \n",
       "2                 12  \n",
       "3                  6  \n",
       "4                 10  \n",
       "...              ...  \n",
       "7608               9  \n",
       "7609              12  \n",
       "7610               5  \n",
       "7611              11  \n",
       "7612              11  \n",
       "\n",
       "[7613 rows x 6 columns]"
      ]
     },
     "execution_count": 49,
     "metadata": {},
     "output_type": "execute_result"
    }
   ],
   "source": [
    "# We can see that the clean_text now removes all the special characters and shortens the tweet\n",
    "tweets_train_df"
   ]
  },
  {
   "cell_type": "code",
   "execution_count": 51,
   "metadata": {},
   "outputs": [
    {
     "name": "stderr",
     "output_type": "stream",
     "text": [
      "/var/folders/mf/6p75cz_100v22mptnl137bwc0000gq/T/ipykernel_98445/3495285707.py:3: UserWarning: Ignoring `palette` because no `hue` variable has been assigned.\n",
      "  sns.histplot(\n",
      "/var/folders/mf/6p75cz_100v22mptnl137bwc0000gq/T/ipykernel_98445/3495285707.py:9: UserWarning: Ignoring `palette` because no `hue` variable has been assigned.\n",
      "  sns.histplot(\n"
     ]
    },
    {
     "data": {
      "image/png": "[encoded data removed]",
      "text/plain": [
       "<Figure size 800x400 with 1 Axes>"
      ]
     },
     "metadata": {},
     "output_type": "display_data"
    }
   ],
   "source": [
    "# number of tokens (words) per tweet\n",
    "fig, ax = plt.subplots(figsize=(8,4))\n",
    "sns.histplot(\n",
    "    data = tweets_train_df, \n",
    "    x = 'clean_text_num',\n",
    "    palette = 'blue'\n",
    "    ).set(\n",
    "        title = 'Number of Words per tweet')\n",
    "sns.histplot(\n",
    "    data = tweets_train_df, \n",
    "    x = 'text_num',\n",
    "    palette = 'red'\n",
    "    ).set(\n",
    "        title = 'Number of Words per tweet')\n",
    "plt.xlabel('number of words')\n",
    "plt.show()"
   ]
  },
  {
   "cell_type": "markdown",
   "metadata": {},
   "source": [
    "### Model Setup and Training"
   ]
  },
  {
   "cell_type": "code",
   "execution_count": 129,
   "metadata": {},
   "outputs": [],
   "source": [
    "# Feature extraction on training data\n",
    "train_task = tweets_train_df[\"clean_text\"].tolist()\n",
    "vector = TfidfVectorizer(max_features=1000)\n",
    "intermediate_response = vector.fit(train_task)\n",
    "\n",
    "train_and_val = intermediate_response.transform(tweets_train_df[\"clean_text\"]).todense()\n",
    "\n",
    "X_train, X_val, y_train, y_val = train_test_split(\n",
    "    train_and_val, \n",
    "    tweets_train_df[\"target\"],\n",
    "    test_size=0.15,\n",
    "    random_state=42)\n",
    "\n",
    "X_test = inter_response.transform(tweets_test_df[\"clean_text\"]).todense()"
   ]
  },
  {
   "cell_type": "code",
   "execution_count": 74,
   "metadata": {},
   "outputs": [
    {
     "name": "stdout",
     "output_type": "stream",
     "text": [
      "(6471, 1000) (1142, 1000) (3263, 1000)\n",
      "(6471,) (1142,)\n"
     ]
    }
   ],
   "source": [
    "# Check the dimensions of the training and validation size\n",
    "print(X_train.shape, X_val.shape, X_test.shape)\n",
    "print(y_train.shape, y_val.shape)\n"
   ]
  },
  {
   "cell_type": "code",
   "execution_count": 173,
   "metadata": {},
   "outputs": [],
   "source": [
    "def gridSearch_RNN(lr_list, act_list, X_train, y_train):\n",
    "    \"\"\"\n",
    "        Hyperparameter tuning for the RNN training process\n",
    "        Input: list of learning rates, X_train, y_train\n",
    "        Output: (best_history, float best_lr) current_best[1:]\n",
    "    \"\"\"\n",
    "    callbacks_list =  [tf.keras.callbacks.EarlyStopping(monitor=\"val_loss\", patience = 5, mode = \"min\")]\n",
    "\n",
    "    # initialize an empty validation accuracy\n",
    "    current_best = (0, None, None)\n",
    "    for lr in lr_list:\n",
    "        print(\"Now fitting model with initial learning rate\", lr)\n",
    "        for act in act_list:\n",
    "            print(\"Now fitting model with activation function\", act)\n",
    "            lr_schedule = tf.keras.optimizers.schedules.ExponentialDecay(\n",
    "                initial_learning_rate = lr,\n",
    "                decay_steps = 1000,\n",
    "                decay_rate=0.9\n",
    "            ) \n",
    "            model = tf.keras.Sequential()\n",
    "            model.add(tf.keras.Input(shape = (1000, )))\n",
    "            model.add(tf.keras.layers.Dense(128, activation = act))\n",
    "            model.add(tf.keras.layers.Dropout(0.25))\n",
    "            model.add(tf.keras.layers.Dense(128, activation = act))\n",
    "            model.add(tf.keras.layers.Dropout(0.25))\n",
    "            model.add(tf.keras.layers.Dense(1, activation = \"sigmoid\"))  \n",
    "            model.compile(\n",
    "                optimizer = tf.keras.optimizers.legacy.Adam(learning_rate = lr_schedule),\n",
    "                loss = \"binary_crossentropy\",\n",
    "                metrics = [\"accuracy\"] )\n",
    "            this_history = model.fit(X_train,\n",
    "                                y = y_train,\n",
    "                                validation_data = (X_val, y_val),\n",
    "                                epochs = 50,\n",
    "                                callbacks = callbacks_list,\n",
    "                                verbose = 0\n",
    "                            )\n",
    "            print(\"Got last validation accuracy of:\", this_history.history[\"val_accuracy\"][-1])\n",
    "            if this_history.history[\"val_accuracy\"][-1] > current_best[0]:\n",
    "                current_best = (this_history.history[\"val_accuracy\"][-1], this_history, lr)\n",
    "        \n",
    "    return(current_best[1:])"
   ]
  },
  {
   "cell_type": "code",
   "execution_count": 174,
   "metadata": {},
   "outputs": [
    {
     "name": "stdout",
     "output_type": "stream",
     "text": [
      "Now fitting model with initial learning rate 1e-05\n",
      "Now fitting model with activation function relu\n",
      "Got last validation accuracy of: 0.6777583360671997\n",
      "Now fitting model with activation function sigmoid\n",
      "Got last validation accuracy of: 0.5700525641441345\n",
      "Now fitting model with activation function tanh\n",
      "Got last validation accuracy of: 0.764448344707489\n",
      "Now fitting model with initial learning rate 0.0001\n",
      "Now fitting model with activation function relu\n",
      "Got last validation accuracy of: 0.7942206859588623\n",
      "Now fitting model with activation function sigmoid\n",
      "Got last validation accuracy of: 0.7723292708396912\n",
      "Now fitting model with activation function tanh\n",
      "Got last validation accuracy of: 0.7863397598266602\n",
      "Now fitting model with initial learning rate 0.001\n",
      "Now fitting model with activation function relu\n",
      "Got last validation accuracy of: 0.7767075300216675\n",
      "Now fitting model with activation function sigmoid\n",
      "Got last validation accuracy of: 0.792469322681427\n",
      "Now fitting model with activation function tanh\n",
      "Got last validation accuracy of: 0.793345034122467\n",
      "Now fitting model with initial learning rate 0.01\n",
      "Now fitting model with activation function relu\n",
      "Got last validation accuracy of: 0.7618213891983032\n",
      "Now fitting model with activation function sigmoid\n",
      "Got last validation accuracy of: 0.7810857892036438\n",
      "Now fitting model with activation function tanh\n",
      "Got last validation accuracy of: 0.7775831818580627\n"
     ]
    }
   ],
   "source": [
    "# Hyperparameter tuning\n",
    "lr_list = [1e-5,1e-4, 1e-3,1e-2]\n",
    "act_list = [\"relu\", \"sigmoid\", \"tanh\"]\n",
    "(best_history, best_lr) = gridSearch_RNN(lr_list,act_list, X_train, y_train)"
   ]
  },
  {
   "cell_type": "code",
   "execution_count": 175,
   "metadata": {},
   "outputs": [
    {
     "name": "stdout",
     "output_type": "stream",
     "text": [
      "Model: \"sequential_84\"\n",
      "_________________________________________________________________\n",
      " Layer (type)                Output Shape              Param #   \n",
      "=================================================================\n",
      " dense_249 (Dense)           (None, 128)               128128    \n",
      "                                                                 \n",
      " dropout_166 (Dropout)       (None, 128)               0         \n",
      "                                                                 \n",
      " dense_250 (Dense)           (None, 128)               16512     \n",
      "                                                                 \n",
      " dropout_167 (Dropout)       (None, 128)               0         \n",
      "                                                                 \n",
      " dense_251 (Dense)           (None, 1)                 129       \n",
      "                                                                 \n",
      "=================================================================\n",
      "Total params: 144769 (565.50 KB)\n",
      "Trainable params: 144769 (565.50 KB)\n",
      "Non-trainable params: 0 (0.00 Byte)\n",
      "_________________________________________________________________\n"
     ]
    }
   ],
   "source": [
    "best_history.model.summary()"
   ]
  },
  {
   "cell_type": "code",
   "execution_count": 176,
   "metadata": {},
   "outputs": [
    {
     "data": {
      "text/plain": [
       "[0.5700525641441345,\n",
       " 0.5726795196533203,\n",
       " 0.7005254030227661,\n",
       " 0.7583187222480774,\n",
       " 0.7758318781852722,\n",
       " 0.7898423671722412,\n",
       " 0.7837128043174744,\n",
       " 0.7898423671722412,\n",
       " 0.7880910634994507,\n",
       " 0.7880910634994507,\n",
       " 0.7907180190086365,\n",
       " 0.7942206859588623]"
      ]
     },
     "execution_count": 176,
     "metadata": {},
     "output_type": "execute_result"
    }
   ],
   "source": [
    "best_history.history[\"val_accuracy\"]"
   ]
  },
  {
   "cell_type": "markdown",
   "metadata": {},
   "source": [
    "### Visualization"
   ]
  },
  {
   "cell_type": "code",
   "execution_count": 177,
   "metadata": {},
   "outputs": [
    {
     "data": {
      "image/png": "[encoded data removed]",
      "text/plain": [
       "<Figure size 1000x400 with 2 Axes>"
      ]
     },
     "metadata": {},
     "output_type": "display_data"
    }
   ],
   "source": [
    "fig, ((ax1, ax2)) = plt.subplots(nrows= 1,ncols=2, figsize=(10,4))\n",
    "ax1.plot(np.arange(1,13), best_history.history[\"accuracy\"], zorder = 0,color='red', label = \"train\")\n",
    "ax1.plot(np.arange(1,13), best_history.history[\"val_accuracy\"], zorder = 1, color='blue',label = \"validate\")\n",
    "ax1.legend()\n",
    "ax1.set_xlabel('epoch')\n",
    "ax1.set_ylabel('accuracy')\n",
    "ax1.set_title('Model accuracy vs. epoch')\n",
    "\n",
    "ax2.plot(np.arange(1,13), best_history.history[\"loss\"], zorder = 0, color='red',label = \"Training Loss\")\n",
    "ax2.plot(np.arange(1,13), best_history.history[\"val_loss\"], zorder = 1, color='blue',label = \"Validation Loss\")\n",
    "ax2.legend()\n",
    "ax2.set_xlabel('epoch')\n",
    "ax2.set_ylabel('loss')\n",
    "ax2.set_title('Model loss vs. epoch')\n",
    "plt.tight_layout()"
   ]
  },
  {
   "cell_type": "code",
   "execution_count": 178,
   "metadata": {},
   "outputs": [
    {
     "name": "stdout",
     "output_type": "stream",
     "text": [
      "  1/203 [..............................] - ETA: 6s"
     ]
    },
    {
     "name": "stdout",
     "output_type": "stream",
     "text": [
      "203/203 [==============================] - 0s 518us/step\n"
     ]
    }
   ],
   "source": [
    "y_train_pred = best_history.model.predict(X_train)\n",
    "y_train_pred = y_train_pred.reshape(y_train_pred.shape[0], )\n",
    "y_train_pred = y_train_pred.tolist()\n",
    "y_train_pred = [round(y_train_pred[i]) for i in range(len(y_train_pred))]"
   ]
  },
  {
   "cell_type": "code",
   "execution_count": 179,
   "metadata": {},
   "outputs": [
    {
     "data": {
      "image/png": "[encoded data removed]",
      "text/plain": [
       "<Figure size 640x480 with 2 Axes>"
      ]
     },
     "metadata": {},
     "output_type": "display_data"
    }
   ],
   "source": [
    "train_confusion_matrix = confusion_matrix(y_train.tolist(), y_train_pred)\n",
    "train_f1 = f1_score(y_train.tolist(), y_train_pred) \n",
    "sns.heatmap(train_confusion_matrix, fmt='g',annot=True,\n",
    "            xticklabels=['no_disaster', 'disaster'],\n",
    "            yticklabels=['no_disaster', 'disaster'])\n",
    "plt.ylabel('Predicted')\n",
    "plt.xlabel('Truth (train)')\n",
    "plt.title('Confusion Matrix for training data, F1 score = {}'.format(round(train_f1, 2)),fontsize=12)\n",
    "plt.show()"
   ]
  },
  {
   "cell_type": "code",
   "execution_count": 180,
   "metadata": {},
   "outputs": [
    {
     "name": "stdout",
     "output_type": "stream",
     "text": [
      "36/36 [==============================] - 0s 556us/step\n"
     ]
    }
   ],
   "source": [
    "y_val_pred = best_history.model.predict(X_val)\n",
    "y_val_pred = y_val_pred.reshape(y_val_pred.shape[0], )\n",
    "y_val_pred = y_val_pred.tolist()\n",
    "y_val_pred = [round(y_val_pred[i]) for i in range(len(y_val_pred))]"
   ]
  },
  {
   "cell_type": "code",
   "execution_count": 181,
   "metadata": {},
   "outputs": [
    {
     "data": {
      "image/png": "[encoded data removed]",
      "text/plain": [
       "<Figure size 640x480 with 2 Axes>"
      ]
     },
     "metadata": {},
     "output_type": "display_data"
    }
   ],
   "source": [
    "val_confusion_matrix = confusion_matrix(y_val.tolist(), y_val_pred)\n",
    "val_f1 = f1_score(y_val.tolist(), y_val_pred)\n",
    "sns.heatmap(val_confusion_matrix, fmt='g',annot=True,\n",
    "            xticklabels=['no_disaster', 'disaster'],\n",
    "            yticklabels=['no_disaster', 'disaster'])\n",
    "plt.ylabel('Predicted')\n",
    "plt.xlabel('Truth (validate)')\n",
    "plt.title('Confusion Matrix for validation data, F1 score = {}'.format(round(val_f1, 2)),fontsize=12)\n",
    "plt.show()"
   ]
  },
  {
   "cell_type": "code",
   "execution_count": 148,
   "metadata": {},
   "outputs": [
    {
     "name": "stdout",
     "output_type": "stream",
     "text": [
      "102/102 [==============================] - 0s 557us/step\n"
     ]
    }
   ],
   "source": [
    "#Make test set predictions\n",
    "\n",
    "yhat = best_history.model.predict(X_test)\n",
    "yhat = yhat.reshape(yhat.shape[0], )\n",
    "yhat = yhat.tolist()\n",
    "predictions = [round(yhat[i]) for i in range(len(yhat))]\n",
    "tweets_test_df[\"target\"] = predictions\n",
    "# dropping all other columns and only include \"id\" and \"target\",\n",
    "# to match with sample_submission.csv format\n",
    "tweets_test_submission = tweets_test_df[[\"id\", \"target\"]].sort_values(by = \"id\")\n",
    "tweets_test_submission.set_index(['id'],inplace=True)\n",
    "tweets_test_submission.to_csv(\"./week4_Prediction.csv\")"
   ]
  },
  {
   "cell_type": "code",
   "execution_count": 149,
   "metadata": {},
   "outputs": [
    {
     "data": {
      "text/html": [
       "<div>\n",
       "<style scoped>\n",
       "    .dataframe tbody tr th:only-of-type {\n",
       "        vertical-align: middle;\n",
       "    }\n",
       "\n",
       "    .dataframe tbody tr th {\n",
       "        vertical-align: top;\n",
       "    }\n",
       "\n",
       "    .dataframe thead th {\n",
       "        text-align: right;\n",
       "    }\n",
       "</style>\n",
       "<table border=\"1\" class=\"dataframe\">\n",
       "  <thead>\n",
       "    <tr style=\"text-align: right;\">\n",
       "      <th></th>\n",
       "      <th>target</th>\n",
       "    </tr>\n",
       "    <tr>\n",
       "      <th>id</th>\n",
       "      <th></th>\n",
       "    </tr>\n",
       "  </thead>\n",
       "  <tbody>\n",
       "    <tr>\n",
       "      <th>0</th>\n",
       "      <td>1</td>\n",
       "    </tr>\n",
       "    <tr>\n",
       "      <th>2</th>\n",
       "      <td>1</td>\n",
       "    </tr>\n",
       "    <tr>\n",
       "      <th>3</th>\n",
       "      <td>1</td>\n",
       "    </tr>\n",
       "    <tr>\n",
       "      <th>9</th>\n",
       "      <td>1</td>\n",
       "    </tr>\n",
       "    <tr>\n",
       "      <th>11</th>\n",
       "      <td>1</td>\n",
       "    </tr>\n",
       "    <tr>\n",
       "      <th>...</th>\n",
       "      <td>...</td>\n",
       "    </tr>\n",
       "    <tr>\n",
       "      <th>10861</th>\n",
       "      <td>1</td>\n",
       "    </tr>\n",
       "    <tr>\n",
       "      <th>10865</th>\n",
       "      <td>1</td>\n",
       "    </tr>\n",
       "    <tr>\n",
       "      <th>10868</th>\n",
       "      <td>1</td>\n",
       "    </tr>\n",
       "    <tr>\n",
       "      <th>10874</th>\n",
       "      <td>1</td>\n",
       "    </tr>\n",
       "    <tr>\n",
       "      <th>10875</th>\n",
       "      <td>0</td>\n",
       "    </tr>\n",
       "  </tbody>\n",
       "</table>\n",
       "<p>3263 rows × 1 columns</p>\n",
       "</div>"
      ],
      "text/plain": [
       "       target\n",
       "id           \n",
       "0           1\n",
       "2           1\n",
       "3           1\n",
       "9           1\n",
       "11          1\n",
       "...       ...\n",
       "10861       1\n",
       "10865       1\n",
       "10868       1\n",
       "10874       1\n",
       "10875       0\n",
       "\n",
       "[3263 rows x 1 columns]"
      ]
     },
     "execution_count": 149,
     "metadata": {},
     "output_type": "execute_result"
    }
   ],
   "source": [
    "tweets_test_submission"
   ]
  },
  {
   "cell_type": "markdown",
   "metadata": {},
   "source": [
    "### Summary\n",
    "\n",
    "Through this project, we classified tweets as related to disaster or not using NLP methods and recurrent neural networks (RNN). WE used NLTK packages to clean up the text in the tweets. In setting up the RNN models, I performed hyperparameter tuning on a variety of initial learning rates (from 1e-5 to 1e-2) and activation functions ('sigmoid', 'relu', 'tanh'), and chose the the learning rate with the best performance. The best model using \"relu\" activation function and a learning rate of 0.0001 resulted in a validation accuracy of 0.794, and a F1 score of 0.83 for the training data, and a F1 score of 0.75 for the validation data. In the Kaggle competition, my submission had a score of 0.774. The final model still has plenty of room for improvement, such as using more dense layers for the classification, or implement more advanced architectures such as Long Short Term Memory (LSTM) models."
   ]
  }
 ],
 "metadata": {
  "kernelspec": {
   "display_name": "ml_learn",
   "language": "python",
   "name": "python3"
  },
  "language_info": {
   "codemirror_mode": {
    "name": "ipython",
    "version": 3
   },
   "file_extension": ".py",
   "mimetype": "text/x-python",
   "name": "python",
   "nbconvert_exporter": "python",
   "pygments_lexer": "ipython3",
   "version": "3.11.3"
  }
 },
 "nbformat": 4,
 "nbformat_minor": 2
}
